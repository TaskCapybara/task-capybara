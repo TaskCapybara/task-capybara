{
 "cells": [
  {
   "cell_type": "markdown",
   "metadata": {},
   "source": [
    "![image](https://raw.githubusercontent.com/IBM/watson-machine-learning-samples/master/cloud/notebooks/headers/watsonx-Prompt_Lab-Notebook.png)\n",
    "# Prompt Notebook with Chat - Prompt Lab Notebook v1.1.0\n",
    "This notebook contains steps and code to demonstrate inferencing of prompts\n",
    "generated in Prompt Lab in watsonx.ai with a chat format. It introduces Python API commands\n",
    "for authentication using API key and prompt inferencing using WML API.\n",
    "\n",
    "**Note:** Notebook code generated using Prompt Lab will execute successfully.\n",
    "If code is modified or reordered, there is no guarantee it will successfully execute.\n",
    "For details, see: <a href=\"/docs/content/wsj/analyze-data/fm-prompt-save.html?context=wx\" target=\"_blank\">Saving your work in Prompt Lab as a notebook.</a>\n",
    "\n",
    "Some familiarity with Python is helpful. This notebook uses Python 3.10.\n",
    "\n",
    "## Notebook goals\n",
    "The learning goals of this notebook are:\n",
    "\n",
    "* Defining a Python function for obtaining credentials from the IBM Cloud personal API key\n",
    "* Defining parameters of the Model object\n",
    "* Using the Model object to generate response using the defined model id, parameters and the prompt input\n",
    "\n",
    "# Setup"
   ]
  },
  {
   "cell_type": "markdown",
   "metadata": {},
   "source": [
    "## watsonx API connection\n",
    "This cell defines the credentials required to work with watsonx API for Foundation\n",
    "Model inferencing.\n",
    "\n",
    "**Action:** Provide the IBM Cloud personal API key. For details, see\n",
    "<a href=\"https://cloud.ibm.com/docs/account?topic=account-userapikey&interface=ui\" target=\"_blank\">documentation</a>.\n"
   ]
  },
  {
   "cell_type": "code",
   "execution_count": 30,
   "metadata": {},
   "outputs": [],
   "source": [
    "import os\n",
    "import getpass\n",
    "\n",
    "def get_credentials():\n",
    "\treturn {\n",
    "\t\t\"url\" : \"https://us-south.ml.cloud.ibm.com\",\n",
    "\t\t\"apikey\" : \"Bql91PNKGI6BsmCET-yb9KO_ozMr4bSi5Gc33067BTtr\"\n",
    "#         getpass.getpass(\"Please enter your api key (hit enter): \")\n",
    "\t}\n"
   ]
  },
  {
   "cell_type": "markdown",
   "metadata": {},
   "source": [
    "# Inferencing\n",
    "This cell demonstrated how we can use the model object as well as the created access token\n",
    "to pair it with parameters and input string to obtain\n",
    "the response from the the selected foundation model.\n",
    "\n",
    "## Defining the model id\n",
    "We need to specify model id that will be used for inferencing:\n"
   ]
  },
  {
   "cell_type": "code",
   "execution_count": 31,
   "metadata": {},
   "outputs": [],
   "source": [
    "model_id = \"meta-llama/llama-3-405b-instruct\"\n"
   ]
  },
  {
   "cell_type": "markdown",
   "metadata": {},
   "source": [
    "## Defining the model parameters\n",
    "We need to provide a set of model parameters that will influence the\n",
    "result:"
   ]
  },
  {
   "cell_type": "code",
   "execution_count": 32,
   "metadata": {},
   "outputs": [],
   "source": [
    "parameters = {\n",
    "    \"decoding_method\": \"greedy\",\n",
    "    \"max_new_tokens\": 900,\n",
    "    \"repetition_penalty\": 1\n",
    "}"
   ]
  },
  {
   "cell_type": "markdown",
   "metadata": {},
   "source": [
    "## Defining the project id or space id\n",
    "The API requires project id or space id that provides the context for the call. We will obtain\n",
    "the id from the project or space in which this notebook runs:"
   ]
  },
  {
   "cell_type": "code",
   "execution_count": 33,
   "metadata": {},
   "outputs": [],
   "source": [
    "# project_id = os.getenv(\"PROJECT_ID\")\n",
    "project_id = 'f64f5842-5256-40e9-ad42-478af13a96fc'\n",
    "# space_id = os.getenv(\"SPACE_ID\")\n"
   ]
  },
  {
   "cell_type": "markdown",
   "metadata": {},
   "source": [
    "## Defining the Model object\n",
    "We need to define the Model object using the properties we defined so far:\n"
   ]
  },
  {
   "cell_type": "code",
   "execution_count": 34,
   "metadata": {},
   "outputs": [],
   "source": [
    "from ibm_watsonx_ai.foundation_models import Model\n",
    "\n",
    "model = Model(\n",
    "\tmodel_id = model_id,\n",
    "\tparams = parameters,\n",
    "\tcredentials = get_credentials(),\n",
    "\tproject_id = project_id,\n",
    "\tspace_id = None\n",
    "\t)\n"
   ]
  },
  {
   "cell_type": "markdown",
   "metadata": {},
   "source": [
    "## Defining the inferencing input for chat\n",
    "Foundation models supporting chat accept a system prompt that instructs the model on how to conduct the dialog. They also accept previous questions and answers to give additional context when inferencing. Each model has it's own string format for constructing the input.\n",
    "\n",
    "Let us provide the input we got from the Prompt Lab and format it for the selected model:\n"
   ]
  },
  {
   "cell_type": "code",
   "execution_count": 43,
   "metadata": {},
   "outputs": [],
   "source": [
    "prompt_input = \"\"\"<|start_header_id|>system<|end_header_id|>\n",
    "You are a helpful, friendly, and professional team management assistant designed to gather daily progress updates from team members. \n",
    "Your goal is to ask the right questions to get detailed updates on task progress, blockers, and timelines. \n",
    "You should ask one question at a time. \n",
    "You should also maintain a conversational tone, encourage clarity, and offer help when needed. \n",
    "\n",
    "After gathering all the information, summarize the information in the following format:\n",
    "1. Current Tasks:\n",
    "2. Tasks status:\n",
    "3. Blockers:\n",
    "4. Deadlines:\n",
    "\n",
    "You should only end the conversation with the tag <EndChat> after user agrees to end the conversation.\n",
    "\"\"\"\n",
    "# prompt_input = \"\"\"<|start_header_id|>system<|end_header_id|>\n",
    "# You are a helpful, friendly, and professional team management assistant designed to gather daily progress updates from team members. Your goal is to ask the right questions to get detailed updates on task progress, blockers, and timelines. You should ask one question at a time. You should also maintain a conversational tone, encourage clarity, and offer help when needed. Always summarize the information clearly.\n",
    "\n",
    "# Key actions:\n",
    "# 1. Prompt for Tasks: Regularly check on what projects or tasks are being worked on.\n",
    "# 2. Monitor Status: Ask for updates, ensuring clarity on whether tasks are \\\"not started\\\", \\\"in progress\\\", \\\"developed\\\", \\\"in testing\\\", \\\"tested\\\", or \\\"closed.\\\"\n",
    "# 3. Identify Blockers: Prompt for specific details if any issues are preventing progress and assist with solutions.\n",
    "# 4. Clarify Deadlines: Confirm important deadlines to keep the team on track, such as \\\"tomorrow 6pm\\\" or \\\"by next Friday morning.\\\"\n",
    "\n",
    "# When team members give vague or incomplete responses, you prompt for more detailed information and request clarification where needed. Summarize discussions clearly to keep everyone aligned.\n",
    "# \"\"\"\n",
    "current_prompt_input = prompt_input"
   ]
  },
  {
   "cell_type": "markdown",
   "metadata": {},
   "source": [
    "## Execution\n",
    "Let us now use the defined Model object, pair it with the input, and generate the response to your question:\n"
   ]
  },
  {
   "cell_type": "code",
   "execution_count": 44,
   "metadata": {},
   "outputs": [
    {
     "name": "stdout",
     "output_type": "stream",
     "text": [
      "User: hi\n",
      "AI:  To get started, could you please tell me what tasks you're currently working on?\n",
      "User: I am refactoring logs\n",
      "AI:  So, you're in the process of refactoring logs. That can be a great way to improve system performance and readability. \n",
      "\n",
      "Can you tell me what's the current status of this task? Are you just starting out, making good progress, or nearing completion?\n",
      "User: I am making good progress, around 50%\n",
      "AI:  Making good progress is always motivating. Being 50% done is a great milestone.\n",
      "\n",
      "Are there any blockers or challenges you're facing that might hinder your progress or affect the overall timeline for completing the log refactoring task?\n",
      "User: nope so far\n",
      "AI:  So, it sounds like everything is going smoothly, and you haven't encountered any major roadblocks yet. That's great to hear.\n",
      "\n",
      "What's the deadline or expected completion date for the log refactoring task? Is there a specific timeline you're working towards?\n",
      "User: I estimate to finish by this Friday\n",
      "AI:  So, you're aiming to complete the log refactoring task by this Friday. That gives you a clear target to work towards.\n",
      "\n",
      "Just to make sure I've got everything right, I'll summarize what you've told me so far:\n",
      "\n",
      "1. Current Tasks: Refactoring logs\n",
      "2. Tasks status: 50% complete, making good progress\n",
      "3. Blockers: None so far\n",
      "4. Deadlines: Estimated completion by this Friday\n",
      "\n",
      "Does that look correct to you?\n",
      "User: yes\n",
      "AI:  I'm glad I was able to capture everything accurately. If you're happy with the summary, I'll consider our chat complete.\n",
      "\n",
      "\n"
     ]
    }
   ],
   "source": [
    "end_chat = False\n",
    "while not end_chat:\n",
    "    user_input = input(\"User Input: \")\n",
    "    formatted_question = f\"\"\"<|begin_of_text|><|eot_id|><|start_header_id|>user<|end_header_id|>\n",
    "\n",
    "    {user_input}<|eot_id|><|start_header_id|>assistant<|end_header_id|>\n",
    "\n",
    "    \"\"\"\n",
    "    print(f\"User: {user_input}\")\n",
    "    prompt = f\"\"\"{current_prompt_input}{formatted_question}\"\"\"\n",
    "    generated_response = model.generate_text(prompt=prompt, guardrails=True)\n",
    "    if generated_response.endswith(\"<EndChat>\"):\n",
    "        end_chat = True\n",
    "        generated_response = generated_response[:-9] \n",
    "    print(f\"AI: {generated_response}\")\n",
    "    current_prompt_input += f\"\"\"<|eot_id|><|start_header_id|>user<|end_header_id|>\n",
    "    {user_input}<|eot_id|><|start_header_id|>assistant<|end_header_id|>{generated_response}\"\"\"\n"
   ]
  },
  {
   "cell_type": "markdown",
   "metadata": {},
   "source": [
    "# Next steps\n",
    "You successfully completed this notebook! You learned how to use\n",
    "watsonx.ai inferencing SDK to generate response from the foundation model\n",
    "based on the provided input, model id and model parameters. Check out the\n",
    "official watsonx.ai site for more samples, tutorials, documentation, how-tos, and blog posts.\n",
    "\n",
    "<a id=\"copyrights\"></a>\n",
    "### Copyrights\n",
    "\n",
    "Licensed Materials - Copyright © 2023 IBM. This notebook and its source code are released under the terms of the ILAN License.\n",
    "Use, duplication disclosure restricted by GSA ADP Schedule Contract with IBM Corp.\n",
    "\n",
    "**Note:** The auto-generated notebooks are subject to the International License Agreement for Non-Warranted Programs (or equivalent) and License Information document for watsonx.ai Auto-generated Notebook (License Terms), such agreements located in the link below. Specifically, the Source Components and Sample Materials clause included in the License Information document for Watson Studio Auto-generated Notebook applies to the auto-generated notebooks.  \n",
    "\n",
    "By downloading, copying, accessing, or otherwise using the materials, you agree to the <a href=\"https://www14.software.ibm.com/cgi-bin/weblap/lap.pl?li_formnum=L-AMCU-BYC7LF\" target=\"_blank\">License Terms</a>  "
   ]
  }
 ],
 "metadata": {
  "kernelspec": {
   "display_name": "Python 3.10",
   "language": "python",
   "name": "python3"
  },
  "language_info": {
   "codemirror_mode": {
    "name": "ipython",
    "version": 3
   },
   "file_extension": ".py",
   "mimetype": "text/x-python",
   "name": "python",
   "nbconvert_exporter": "python",
   "pygments_lexer": "ipython3",
   "version": "3.12.4"
  }
 },
 "nbformat": 4,
 "nbformat_minor": 1
}
